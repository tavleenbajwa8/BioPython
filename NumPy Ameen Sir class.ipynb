{
 "cells": [
  {
   "cell_type": "code",
   "execution_count": 1,
   "id": "a2dd7ba4",
   "metadata": {},
   "outputs": [],
   "source": [
    "#NumPy: Short for numerical Python \n",
    "\n",
    "#ndarray: Efficient multidimensional array providing fast array oriented arithmatic operations \n",
    "#and flexible broadcasting capabilities\n",
    "#nd arrays is a generic multidimensional container for homogenous data\n",
    "#Every array has  a shape, a tuple indicating the size of each dimension and a dtype an object describing data type of the array. \n",
    "\n",
    "\n",
    "#Mathematical functions for fast operations on entire arrays of data without writing loops\n",
    "\n",
    "#NumPy by itself doesnot provide modelling or scientific functionality but it uses tools with array oriented semantics like Pandas\n"
   ]
  },
  {
   "cell_type": "code",
   "execution_count": 2,
   "id": "0ab3c5cb",
   "metadata": {},
   "outputs": [],
   "source": [
    "#PIP: Python Package Manager\n",
    "\n",
    "#Stands for Preffered Installer Program\n",
    "\n",
    "#Pip is one of the most widely used package management system to install and manage software packages\n",
    "#written in Python and found in Python Package index (PyPI)\n",
    "#Pip has recursive acronym that stands for \"Pip Installs Packeges\" or \"Pip installs Python\"\n",
    "\n",
    "#pip install 'Package name'"
   ]
  },
  {
   "cell_type": "code",
   "execution_count": 3,
   "id": "89b38717",
   "metadata": {},
   "outputs": [],
   "source": [
    "#Creating ndarrays"
   ]
  },
  {
   "cell_type": "code",
   "execution_count": 4,
   "id": "eeedb046",
   "metadata": {},
   "outputs": [],
   "source": [
    "import numpy as np\n",
    "data = [1,2,3,4]"
   ]
  },
  {
   "cell_type": "code",
   "execution_count": 5,
   "id": "25ae66b9",
   "metadata": {},
   "outputs": [],
   "source": [
    "arr = np.array(data)"
   ]
  },
  {
   "cell_type": "code",
   "execution_count": 6,
   "id": "68473655",
   "metadata": {},
   "outputs": [
    {
     "data": {
      "text/plain": [
       "array([1, 2, 3, 4])"
      ]
     },
     "execution_count": 6,
     "metadata": {},
     "output_type": "execute_result"
    }
   ],
   "source": [
    "arr"
   ]
  },
  {
   "cell_type": "code",
   "execution_count": 7,
   "id": "33e9045f",
   "metadata": {},
   "outputs": [
    {
     "data": {
      "text/plain": [
       "(4,)"
      ]
     },
     "execution_count": 7,
     "metadata": {},
     "output_type": "execute_result"
    }
   ],
   "source": [
    "arr.shape"
   ]
  },
  {
   "cell_type": "code",
   "execution_count": 8,
   "id": "9f260867",
   "metadata": {},
   "outputs": [],
   "source": [
    "d2 = [[1,2,3,4], [6,7,8,9]]"
   ]
  },
  {
   "cell_type": "code",
   "execution_count": 9,
   "id": "bd0a1f8d",
   "metadata": {},
   "outputs": [],
   "source": [
    "arr1 = np.array(d2)"
   ]
  },
  {
   "cell_type": "code",
   "execution_count": 10,
   "id": "3f5db4e9",
   "metadata": {},
   "outputs": [
    {
     "data": {
      "text/plain": [
       "array([[1, 2, 3, 4],\n",
       "       [6, 7, 8, 9]])"
      ]
     },
     "execution_count": 10,
     "metadata": {},
     "output_type": "execute_result"
    }
   ],
   "source": [
    "arr1"
   ]
  },
  {
   "cell_type": "code",
   "execution_count": 11,
   "id": "c0e365b6",
   "metadata": {},
   "outputs": [
    {
     "data": {
      "text/plain": [
       "(2, 4)"
      ]
     },
     "execution_count": 11,
     "metadata": {},
     "output_type": "execute_result"
    }
   ],
   "source": [
    "arr1.shape"
   ]
  },
  {
   "cell_type": "code",
   "execution_count": 12,
   "id": "5934fd3e",
   "metadata": {},
   "outputs": [
    {
     "data": {
      "text/plain": [
       "2"
      ]
     },
     "execution_count": 12,
     "metadata": {},
     "output_type": "execute_result"
    }
   ],
   "source": [
    "arr1.ndim"
   ]
  },
  {
   "cell_type": "code",
   "execution_count": 13,
   "id": "ac5a90f9",
   "metadata": {},
   "outputs": [
    {
     "data": {
      "text/plain": [
       "dtype('int32')"
      ]
     },
     "execution_count": 13,
     "metadata": {},
     "output_type": "execute_result"
    }
   ],
   "source": [
    "arr1.dtype"
   ]
  },
  {
   "cell_type": "code",
   "execution_count": 14,
   "id": "1eb3baf0",
   "metadata": {},
   "outputs": [],
   "source": [
    "#Other ways to create ndarrays"
   ]
  },
  {
   "cell_type": "code",
   "execution_count": 15,
   "id": "3b02f337",
   "metadata": {},
   "outputs": [
    {
     "data": {
      "text/plain": [
       "array([0., 0., 0., 0., 0., 0., 0., 0., 0., 0.])"
      ]
     },
     "execution_count": 15,
     "metadata": {},
     "output_type": "execute_result"
    }
   ],
   "source": [
    "np.zeros(10)"
   ]
  },
  {
   "cell_type": "code",
   "execution_count": 16,
   "id": "d7ce4513",
   "metadata": {},
   "outputs": [
    {
     "data": {
      "text/plain": [
       "array([[0., 0., 0., 0., 0., 0.],\n",
       "       [0., 0., 0., 0., 0., 0.],\n",
       "       [0., 0., 0., 0., 0., 0.]])"
      ]
     },
     "execution_count": 16,
     "metadata": {},
     "output_type": "execute_result"
    }
   ],
   "source": [
    "np.zeros((3,6))"
   ]
  },
  {
   "cell_type": "code",
   "execution_count": 33,
   "id": "c623a54f",
   "metadata": {},
   "outputs": [
    {
     "data": {
      "text/plain": [
       "array([[[0., 0.],\n",
       "        [0., 0.],\n",
       "        [0., 0.]],\n",
       "\n",
       "       [[0., 0.],\n",
       "        [0., 0.],\n",
       "        [0., 0.]],\n",
       "\n",
       "       [[0., 0.],\n",
       "        [0., 0.],\n",
       "        [0., 0.]]])"
      ]
     },
     "execution_count": 33,
     "metadata": {},
     "output_type": "execute_result"
    }
   ],
   "source": [
    "np.empty((3,3,2))   #columns, rows, sets"
   ]
  },
  {
   "cell_type": "code",
   "execution_count": 21,
   "id": "4fd26cb0",
   "metadata": {},
   "outputs": [
    {
     "data": {
      "text/plain": [
       "array([ 0,  1,  2,  3,  4,  5,  6,  7,  8,  9, 10, 11, 12, 13, 14])"
      ]
     },
     "execution_count": 21,
     "metadata": {},
     "output_type": "execute_result"
    }
   ],
   "source": [
    "#arange: An array values version of built in Python range function\n",
    "np.arange(15)"
   ]
  },
  {
   "cell_type": "code",
   "execution_count": 22,
   "id": "a70c5e53",
   "metadata": {},
   "outputs": [],
   "source": [
    "#Data types for ndarrays\n",
    "\n",
    "#dtypes are very powerful and flexible "
   ]
  },
  {
   "cell_type": "code",
   "execution_count": 23,
   "id": "a1de8ba5",
   "metadata": {},
   "outputs": [],
   "source": [
    "ar = np.array([1,2,3,4], dtype=np.float64)"
   ]
  },
  {
   "cell_type": "code",
   "execution_count": 24,
   "id": "3c683ada",
   "metadata": {},
   "outputs": [
    {
     "data": {
      "text/plain": [
       "array([1., 2., 3., 4.])"
      ]
     },
     "execution_count": 24,
     "metadata": {},
     "output_type": "execute_result"
    }
   ],
   "source": [
    "ar"
   ]
  },
  {
   "cell_type": "code",
   "execution_count": 25,
   "id": "77439eff",
   "metadata": {},
   "outputs": [],
   "source": [
    "# astype: To convert or cast as an array from 1 dtype to another"
   ]
  },
  {
   "cell_type": "code",
   "execution_count": 26,
   "id": "199bbf13",
   "metadata": {},
   "outputs": [],
   "source": [
    "arr = np.array([1,2,3,4,5])"
   ]
  },
  {
   "cell_type": "code",
   "execution_count": 27,
   "id": "6f2d192f",
   "metadata": {},
   "outputs": [
    {
     "data": {
      "text/plain": [
       "dtype('int32')"
      ]
     },
     "execution_count": 27,
     "metadata": {},
     "output_type": "execute_result"
    }
   ],
   "source": [
    "arr.dtype"
   ]
  },
  {
   "cell_type": "code",
   "execution_count": 30,
   "id": "83be6ae4",
   "metadata": {},
   "outputs": [],
   "source": [
    "arrflo = arr.astype(np.float64)"
   ]
  },
  {
   "cell_type": "code",
   "execution_count": 31,
   "id": "db9356b4",
   "metadata": {},
   "outputs": [
    {
     "data": {
      "text/plain": [
       "array([1., 2., 3., 4., 5.])"
      ]
     },
     "execution_count": 31,
     "metadata": {},
     "output_type": "execute_result"
    }
   ],
   "source": [
    "arrflo"
   ]
  },
  {
   "cell_type": "code",
   "execution_count": 32,
   "id": "b540ee0c",
   "metadata": {},
   "outputs": [],
   "source": [
    "#Mathematical operations on array"
   ]
  },
  {
   "cell_type": "code",
   "execution_count": 34,
   "id": "caef54df",
   "metadata": {},
   "outputs": [],
   "source": [
    "arr = np.array([[1,2,3,4], [5,5,6,9]])"
   ]
  },
  {
   "cell_type": "code",
   "execution_count": 35,
   "id": "4b4edbde",
   "metadata": {},
   "outputs": [
    {
     "data": {
      "text/plain": [
       "array([[ 1,  4,  9, 16],\n",
       "       [25, 25, 36, 81]])"
      ]
     },
     "execution_count": 35,
     "metadata": {},
     "output_type": "execute_result"
    }
   ],
   "source": [
    "arr*arr"
   ]
  },
  {
   "cell_type": "code",
   "execution_count": 36,
   "id": "7228c786",
   "metadata": {},
   "outputs": [
    {
     "data": {
      "text/plain": [
       "array([[1.        , 0.5       , 0.33333333, 0.25      ],\n",
       "       [0.2       , 0.2       , 0.16666667, 0.11111111]])"
      ]
     },
     "execution_count": 36,
     "metadata": {},
     "output_type": "execute_result"
    }
   ],
   "source": [
    "1/arr"
   ]
  },
  {
   "cell_type": "code",
   "execution_count": 37,
   "id": "3fe148d5",
   "metadata": {},
   "outputs": [
    {
     "data": {
      "text/plain": [
       "array([[10, 20, 30, 40],\n",
       "       [50, 50, 60, 90]])"
      ]
     },
     "execution_count": 37,
     "metadata": {},
     "output_type": "execute_result"
    }
   ],
   "source": [
    "arr*10"
   ]
  },
  {
   "cell_type": "code",
   "execution_count": 38,
   "id": "a88b5ba8",
   "metadata": {},
   "outputs": [],
   "source": [
    "#Indexing and slicing"
   ]
  },
  {
   "cell_type": "code",
   "execution_count": 45,
   "id": "e98a2824",
   "metadata": {},
   "outputs": [],
   "source": [
    "arr = np.arange(1,10)"
   ]
  },
  {
   "cell_type": "code",
   "execution_count": 46,
   "id": "6e45d80f",
   "metadata": {},
   "outputs": [
    {
     "data": {
      "text/plain": [
       "array([1, 2, 3, 4, 5, 6, 7, 8, 9])"
      ]
     },
     "execution_count": 46,
     "metadata": {},
     "output_type": "execute_result"
    }
   ],
   "source": [
    "arr"
   ]
  },
  {
   "cell_type": "code",
   "execution_count": 47,
   "id": "f51052a9",
   "metadata": {},
   "outputs": [
    {
     "data": {
      "text/plain": [
       "6"
      ]
     },
     "execution_count": 47,
     "metadata": {},
     "output_type": "execute_result"
    }
   ],
   "source": [
    "arr[5]"
   ]
  },
  {
   "cell_type": "code",
   "execution_count": 48,
   "id": "b2a8836f",
   "metadata": {},
   "outputs": [
    {
     "data": {
      "text/plain": [
       "array([6, 7, 8])"
      ]
     },
     "execution_count": 48,
     "metadata": {},
     "output_type": "execute_result"
    }
   ],
   "source": [
    "arr[5:8]"
   ]
  },
  {
   "cell_type": "code",
   "execution_count": 51,
   "id": "e82c5289",
   "metadata": {},
   "outputs": [],
   "source": [
    "#Broadcasting\n",
    "arr[5:8] = 12"
   ]
  },
  {
   "cell_type": "code",
   "execution_count": 52,
   "id": "b72d3d79",
   "metadata": {},
   "outputs": [
    {
     "data": {
      "text/plain": [
       "array([ 1,  2,  3,  4,  5, 12, 12, 12,  9])"
      ]
     },
     "execution_count": 52,
     "metadata": {},
     "output_type": "execute_result"
    }
   ],
   "source": [
    "arr"
   ]
  },
  {
   "cell_type": "code",
   "execution_count": 53,
   "id": "fa54e528",
   "metadata": {},
   "outputs": [],
   "source": [
    "#Array slices are views on the original array\n",
    "#If data is not copied and any changes to the view will be reflected in source array"
   ]
  },
  {
   "cell_type": "code",
   "execution_count": 60,
   "id": "467358c9",
   "metadata": {},
   "outputs": [],
   "source": [
    "arr_slice = arr[5:8]"
   ]
  },
  {
   "cell_type": "code",
   "execution_count": 61,
   "id": "12fe6a5c",
   "metadata": {},
   "outputs": [
    {
     "data": {
      "text/plain": [
       "array([64, 64, 64])"
      ]
     },
     "execution_count": 61,
     "metadata": {},
     "output_type": "execute_result"
    }
   ],
   "source": [
    "arr_slice"
   ]
  },
  {
   "cell_type": "code",
   "execution_count": 62,
   "id": "df3db1e0",
   "metadata": {},
   "outputs": [],
   "source": [
    "arr_slice[1] = 12345"
   ]
  },
  {
   "cell_type": "code",
   "execution_count": 63,
   "id": "7c3d6235",
   "metadata": {},
   "outputs": [
    {
     "data": {
      "text/plain": [
       "array([   64, 12345,    64])"
      ]
     },
     "execution_count": 63,
     "metadata": {},
     "output_type": "execute_result"
    }
   ],
   "source": [
    "arr_slice"
   ]
  },
  {
   "cell_type": "code",
   "execution_count": 64,
   "id": "98f00788",
   "metadata": {},
   "outputs": [],
   "source": [
    "arr_slice[:] = 64"
   ]
  },
  {
   "cell_type": "code",
   "execution_count": 65,
   "id": "8d7d1d52",
   "metadata": {},
   "outputs": [
    {
     "data": {
      "text/plain": [
       "array([64, 64, 64])"
      ]
     },
     "execution_count": 65,
     "metadata": {},
     "output_type": "execute_result"
    }
   ],
   "source": [
    "arr_slice"
   ]
  },
  {
   "cell_type": "code",
   "execution_count": null,
   "id": "61537827",
   "metadata": {},
   "outputs": [],
   "source": [
    "#With higher dim arrays we have many more options. \n",
    "\n",
    "#In 2D arrays, the elements at each index are no longer scalars but rather one dim arrays"
   ]
  },
  {
   "cell_type": "code",
   "execution_count": 66,
   "id": "6aa517c6",
   "metadata": {},
   "outputs": [],
   "source": [
    "arr2d = np.array([[1,2,3], [4,5,6], [6,7,8]])"
   ]
  },
  {
   "cell_type": "code",
   "execution_count": 67,
   "id": "4d0071b6",
   "metadata": {},
   "outputs": [
    {
     "data": {
      "text/plain": [
       "array([6, 7, 8])"
      ]
     },
     "execution_count": 67,
     "metadata": {},
     "output_type": "execute_result"
    }
   ],
   "source": [
    "arr2d[2]"
   ]
  },
  {
   "cell_type": "code",
   "execution_count": 69,
   "id": "e045a48b",
   "metadata": {},
   "outputs": [
    {
     "data": {
      "text/plain": [
       "array([[1, 2, 3],\n",
       "       [4, 5, 6],\n",
       "       [6, 7, 8]])"
      ]
     },
     "execution_count": 69,
     "metadata": {},
     "output_type": "execute_result"
    }
   ],
   "source": [
    "arr2d"
   ]
  },
  {
   "cell_type": "code",
   "execution_count": 70,
   "id": "a496cc9d",
   "metadata": {},
   "outputs": [
    {
     "data": {
      "text/plain": [
       "3"
      ]
     },
     "execution_count": 70,
     "metadata": {},
     "output_type": "execute_result"
    }
   ],
   "source": [
    "arr2d[0,2]   #row,column"
   ]
  },
  {
   "cell_type": "code",
   "execution_count": 71,
   "id": "d5c2e3c7",
   "metadata": {},
   "outputs": [],
   "source": [
    "#Indexing with slices "
   ]
  },
  {
   "cell_type": "code",
   "execution_count": 73,
   "id": "0f1aa482",
   "metadata": {},
   "outputs": [
    {
     "data": {
      "text/plain": [
       "array([[2, 3],\n",
       "       [5, 6]])"
      ]
     },
     "execution_count": 73,
     "metadata": {},
     "output_type": "execute_result"
    }
   ],
   "source": [
    "arr2d[:2, 1:]"
   ]
  },
  {
   "cell_type": "code",
   "execution_count": 74,
   "id": "8d976c52",
   "metadata": {},
   "outputs": [
    {
     "data": {
      "text/plain": [
       "array([[6]])"
      ]
     },
     "execution_count": 74,
     "metadata": {},
     "output_type": "execute_result"
    }
   ],
   "source": [
    "arr2d[2:, :1]"
   ]
  },
  {
   "cell_type": "code",
   "execution_count": 75,
   "id": "6a36f3a0",
   "metadata": {},
   "outputs": [
    {
     "data": {
      "text/plain": [
       "array([[1, 2, 3],\n",
       "       [4, 5, 6],\n",
       "       [6, 7, 8]])"
      ]
     },
     "execution_count": 75,
     "metadata": {},
     "output_type": "execute_result"
    }
   ],
   "source": [
    "arr2d"
   ]
  },
  {
   "cell_type": "code",
   "execution_count": 90,
   "id": "89587d89",
   "metadata": {},
   "outputs": [
    {
     "data": {
      "text/plain": [
       "array([[1, 2],\n",
       "       [4, 5],\n",
       "       [6, 7]])"
      ]
     },
     "execution_count": 90,
     "metadata": {},
     "output_type": "execute_result"
    }
   ],
   "source": [
    "arr2d[:, :2]"
   ]
  },
  {
   "cell_type": "code",
   "execution_count": 101,
   "id": "b6e26f29",
   "metadata": {},
   "outputs": [
    {
     "data": {
      "text/plain": [
       "array([4, 5])"
      ]
     },
     "execution_count": 101,
     "metadata": {},
     "output_type": "execute_result"
    }
   ],
   "source": [
    "arr2d[1, 0:2]"
   ]
  },
  {
   "cell_type": "code",
   "execution_count": 103,
   "id": "7561a244",
   "metadata": {},
   "outputs": [
    {
     "data": {
      "text/plain": [
       "7"
      ]
     },
     "execution_count": 103,
     "metadata": {},
     "output_type": "execute_result"
    }
   ],
   "source": [
    "arr2d[2, 1]"
   ]
  },
  {
   "cell_type": "code",
   "execution_count": 105,
   "id": "cfcf9002",
   "metadata": {},
   "outputs": [
    {
     "data": {
      "text/plain": [
       "array([[5, 6],\n",
       "       [7, 8]])"
      ]
     },
     "execution_count": 105,
     "metadata": {},
     "output_type": "execute_result"
    }
   ],
   "source": [
    "arr2d[1:, 1:]"
   ]
  },
  {
   "cell_type": "code",
   "execution_count": 107,
   "id": "9402841f",
   "metadata": {},
   "outputs": [
    {
     "data": {
      "text/plain": [
       "array([[1, 2],\n",
       "       [4, 5]])"
      ]
     },
     "execution_count": 107,
     "metadata": {},
     "output_type": "execute_result"
    }
   ],
   "source": [
    "arr2d[0:2, 0:2]"
   ]
  },
  {
   "cell_type": "code",
   "execution_count": 108,
   "id": "6b180ccc",
   "metadata": {},
   "outputs": [],
   "source": [
    "#Boolean Indexing"
   ]
  },
  {
   "cell_type": "code",
   "execution_count": 279,
   "id": "e9e7e674",
   "metadata": {},
   "outputs": [],
   "source": [
    "names = np.array(['Bob', 'Joe', 'Will', 'Bob', 'Will', 'Joe', 'Gen'])"
   ]
  },
  {
   "cell_type": "code",
   "execution_count": 280,
   "id": "b5aeebe9",
   "metadata": {},
   "outputs": [
    {
     "data": {
      "text/plain": [
       "array(['Bob', 'Joe', 'Will', 'Bob', 'Will', 'Joe', 'Gen'], dtype='<U4')"
      ]
     },
     "execution_count": 280,
     "metadata": {},
     "output_type": "execute_result"
    }
   ],
   "source": [
    "names"
   ]
  },
  {
   "cell_type": "code",
   "execution_count": 281,
   "id": "54b26168",
   "metadata": {},
   "outputs": [],
   "source": [
    "data = np.random.randn(7,4)"
   ]
  },
  {
   "cell_type": "code",
   "execution_count": 282,
   "id": "8016fa0a",
   "metadata": {},
   "outputs": [
    {
     "data": {
      "text/plain": [
       "array([[ 2.11315736,  1.26522292,  1.90087365,  1.74601205],\n",
       "       [-0.48713339,  0.50557794,  0.11939746, -0.27639106],\n",
       "       [ 0.27778155,  0.71610879, -1.25744461,  0.21079892],\n",
       "       [ 0.17099365,  0.80152419, -0.36026308, -1.36831976],\n",
       "       [ 0.57347065,  1.621978  , -0.42366268, -0.06701857],\n",
       "       [-0.34516359, -0.85773698,  0.97856731, -0.55649648],\n",
       "       [ 0.52656978,  0.67544906, -0.75097855, -2.11733234]])"
      ]
     },
     "execution_count": 282,
     "metadata": {},
     "output_type": "execute_result"
    }
   ],
   "source": [
    "data"
   ]
  },
  {
   "cell_type": "code",
   "execution_count": 283,
   "id": "f0789a00",
   "metadata": {},
   "outputs": [
    {
     "data": {
      "text/plain": [
       "array([ True, False, False,  True, False, False, False])"
      ]
     },
     "execution_count": 283,
     "metadata": {},
     "output_type": "execute_result"
    }
   ],
   "source": [
    "names == 'Bob'"
   ]
  },
  {
   "cell_type": "code",
   "execution_count": 284,
   "id": "d390f1b0",
   "metadata": {},
   "outputs": [
    {
     "data": {
      "text/plain": [
       "array([[ 2.11315736,  1.26522292,  1.90087365,  1.74601205],\n",
       "       [ 0.17099365,  0.80152419, -0.36026308, -1.36831976]])"
      ]
     },
     "execution_count": 284,
     "metadata": {},
     "output_type": "execute_result"
    }
   ],
   "source": [
    "data[names == 'Bob']"
   ]
  },
  {
   "cell_type": "code",
   "execution_count": 285,
   "id": "5ec07991",
   "metadata": {},
   "outputs": [
    {
     "data": {
      "text/plain": [
       "array([False,  True,  True, False,  True,  True,  True])"
      ]
     },
     "execution_count": 285,
     "metadata": {},
     "output_type": "execute_result"
    }
   ],
   "source": [
    "names != 'Bob'"
   ]
  },
  {
   "cell_type": "code",
   "execution_count": 286,
   "id": "6f41612c",
   "metadata": {},
   "outputs": [
    {
     "data": {
      "text/plain": [
       "array([[-0.48713339,  0.50557794,  0.11939746, -0.27639106],\n",
       "       [ 0.27778155,  0.71610879, -1.25744461,  0.21079892],\n",
       "       [ 0.57347065,  1.621978  , -0.42366268, -0.06701857],\n",
       "       [-0.34516359, -0.85773698,  0.97856731, -0.55649648],\n",
       "       [ 0.52656978,  0.67544906, -0.75097855, -2.11733234]])"
      ]
     },
     "execution_count": 286,
     "metadata": {},
     "output_type": "execute_result"
    }
   ],
   "source": [
    "data[(names != 'Bob')]"
   ]
  },
  {
   "cell_type": "code",
   "execution_count": 287,
   "id": "cc6ca877",
   "metadata": {},
   "outputs": [
    {
     "data": {
      "text/plain": [
       "array([[-0.48713339,  0.50557794,  0.11939746, -0.27639106],\n",
       "       [ 0.27778155,  0.71610879, -1.25744461,  0.21079892],\n",
       "       [ 0.57347065,  1.621978  , -0.42366268, -0.06701857],\n",
       "       [-0.34516359, -0.85773698,  0.97856731, -0.55649648],\n",
       "       [ 0.52656978,  0.67544906, -0.75097855, -2.11733234]])"
      ]
     },
     "execution_count": 287,
     "metadata": {},
     "output_type": "execute_result"
    }
   ],
   "source": [
    "data[~(names == 'Bob')]"
   ]
  },
  {
   "cell_type": "code",
   "execution_count": 24,
   "id": "02bc2020",
   "metadata": {},
   "outputs": [],
   "source": [
    "a = np.arange(12).reshape(3,4)"
   ]
  },
  {
   "cell_type": "code",
   "execution_count": 25,
   "id": "22482949",
   "metadata": {},
   "outputs": [
    {
     "data": {
      "text/plain": [
       "array([[ 0,  1,  2,  3],\n",
       "       [ 4,  5,  6,  7],\n",
       "       [ 8,  9, 10, 11]])"
      ]
     },
     "execution_count": 25,
     "metadata": {},
     "output_type": "execute_result"
    }
   ],
   "source": [
    "a"
   ]
  },
  {
   "cell_type": "code",
   "execution_count": 127,
   "id": "c01d95fd",
   "metadata": {},
   "outputs": [],
   "source": [
    "b = a>4"
   ]
  },
  {
   "cell_type": "code",
   "execution_count": 130,
   "id": "4713fd92",
   "metadata": {},
   "outputs": [
    {
     "data": {
      "text/plain": [
       "array([[False, False, False, False],\n",
       "       [False,  True,  True,  True],\n",
       "       [ True,  True,  True,  True]])"
      ]
     },
     "execution_count": 130,
     "metadata": {},
     "output_type": "execute_result"
    }
   ],
   "source": [
    "b  #Boolean array for array a\n",
    "\n",
    "#True: elements which follow the condition\n",
    "#False: Elements which do not follow the condition "
   ]
  },
  {
   "cell_type": "code",
   "execution_count": 131,
   "id": "3be39deb",
   "metadata": {},
   "outputs": [
    {
     "data": {
      "text/plain": [
       "array([ 5,  6,  7,  8,  9, 10, 11])"
      ]
     },
     "execution_count": 131,
     "metadata": {},
     "output_type": "execute_result"
    }
   ],
   "source": [
    "a[b]        #b is the index & it will only return the elemnts that follow "
   ]
  },
  {
   "cell_type": "code",
   "execution_count": 134,
   "id": "caa0b40c",
   "metadata": {},
   "outputs": [],
   "source": [
    "a[b] = -1   #will replace true elemnts with -1"
   ]
  },
  {
   "cell_type": "code",
   "execution_count": 135,
   "id": "62442a03",
   "metadata": {},
   "outputs": [
    {
     "data": {
      "text/plain": [
       "array([[ 0,  1,  2,  3],\n",
       "       [ 4, -1, -1, -1],\n",
       "       [-1, -1, -1, -1]])"
      ]
     },
     "execution_count": 135,
     "metadata": {},
     "output_type": "execute_result"
    }
   ],
   "source": [
    "a"
   ]
  },
  {
   "cell_type": "code",
   "execution_count": 137,
   "id": "1770e105",
   "metadata": {},
   "outputs": [],
   "source": [
    "mask = (names == 'Bob') | (names == 'will')\n"
   ]
  },
  {
   "cell_type": "code",
   "execution_count": 138,
   "id": "df27530e",
   "metadata": {},
   "outputs": [
    {
     "data": {
      "text/plain": [
       "array([[ 1.00288998,  0.64501129,  1.07177543, -1.58778301],\n",
       "       [-0.29497589, -0.44532254,  1.42048791, -0.08334918]])"
      ]
     },
     "execution_count": 138,
     "metadata": {},
     "output_type": "execute_result"
    }
   ],
   "source": [
    "data[mask]"
   ]
  },
  {
   "cell_type": "code",
   "execution_count": 140,
   "id": "f1ea4e02",
   "metadata": {},
   "outputs": [],
   "source": [
    "data[mask] = 0"
   ]
  },
  {
   "cell_type": "code",
   "execution_count": 141,
   "id": "e979de8f",
   "metadata": {},
   "outputs": [
    {
     "data": {
      "text/plain": [
       "array([[ 0.        ,  0.        ,  0.        ,  0.        ],\n",
       "       [ 1.97167567,  1.26915747,  0.86367455, -1.33638853],\n",
       "       [-1.73975567, -0.7674566 , -0.70085282, -0.26969908],\n",
       "       [ 0.        ,  0.        ,  0.        ,  0.        ],\n",
       "       [ 0.1076189 ,  0.04536024, -1.39022727, -1.80290342],\n",
       "       [ 1.08779142, -1.37490079, -1.53925837, -2.0696741 ],\n",
       "       [-1.2287421 ,  1.58695829,  0.4455114 , -0.15913918]])"
      ]
     },
     "execution_count": 141,
     "metadata": {},
     "output_type": "execute_result"
    }
   ],
   "source": [
    "data"
   ]
  },
  {
   "cell_type": "code",
   "execution_count": 142,
   "id": "99490fb3",
   "metadata": {},
   "outputs": [],
   "source": [
    "#Fancy Indexing"
   ]
  },
  {
   "cell_type": "code",
   "execution_count": 143,
   "id": "2e61285c",
   "metadata": {},
   "outputs": [],
   "source": [
    "arr = np.array([\n",
    "    [ 0., 0., 0., 0.],\n",
    "    [ 1., 1., 1., 1.],\n",
    "    [ 2., 2., 2., 2.],\n",
    "    [ 3., 3., 3., 3.],\n",
    "    [ 4., 4., 4., 4.],\n",
    "    [ 5., 5., 5., 5.],\n",
    "    [ 6., 6., 6., 6.],\n",
    "    [ 7., 7., 7., 7.] \n",
    "])"
   ]
  },
  {
   "cell_type": "code",
   "execution_count": 144,
   "id": "c7bdb91f",
   "metadata": {},
   "outputs": [
    {
     "data": {
      "text/plain": [
       "array([[4., 4., 4., 4.],\n",
       "       [3., 3., 3., 3.],\n",
       "       [0., 0., 0., 0.],\n",
       "       [6., 6., 6., 6.]])"
      ]
     },
     "execution_count": 144,
     "metadata": {},
     "output_type": "execute_result"
    }
   ],
   "source": [
    "arr[[4, 3, 0, 6]]"
   ]
  },
  {
   "cell_type": "code",
   "execution_count": 145,
   "id": "77e958a8",
   "metadata": {},
   "outputs": [],
   "source": [
    "arr = np.arange(32).reshape((8,4))"
   ]
  },
  {
   "cell_type": "code",
   "execution_count": 147,
   "id": "6d0ae424",
   "metadata": {},
   "outputs": [
    {
     "data": {
      "text/plain": [
       "array([[ 0,  1,  2,  3],\n",
       "       [ 4,  5,  6,  7],\n",
       "       [ 8,  9, 10, 11],\n",
       "       [12, 13, 14, 15],\n",
       "       [16, 17, 18, 19],\n",
       "       [20, 21, 22, 23],\n",
       "       [24, 25, 26, 27],\n",
       "       [28, 29, 30, 31]])"
      ]
     },
     "execution_count": 147,
     "metadata": {},
     "output_type": "execute_result"
    }
   ],
   "source": [
    "arr"
   ]
  },
  {
   "cell_type": "code",
   "execution_count": 148,
   "id": "d70fa99c",
   "metadata": {},
   "outputs": [
    {
     "data": {
      "text/plain": [
       "array([[ 4,  5,  6,  7],\n",
       "       [20, 21, 22, 23],\n",
       "       [28, 29, 30, 31],\n",
       "       [ 8,  9, 10, 11]])"
      ]
     },
     "execution_count": 148,
     "metadata": {},
     "output_type": "execute_result"
    }
   ],
   "source": [
    "arr[[1,5,7,2]]"
   ]
  },
  {
   "cell_type": "code",
   "execution_count": 149,
   "id": "86d5e09e",
   "metadata": {},
   "outputs": [
    {
     "data": {
      "text/plain": [
       "array([[ 0,  1,  2,  3],\n",
       "       [12, 13, 14, 15],\n",
       "       [ 4,  5,  6,  7],\n",
       "       [ 8,  9, 10, 11]])"
      ]
     },
     "execution_count": 149,
     "metadata": {},
     "output_type": "execute_result"
    }
   ],
   "source": []
  },
  {
   "cell_type": "code",
   "execution_count": 152,
   "id": "9783756c",
   "metadata": {},
   "outputs": [
    {
     "data": {
      "text/plain": [
       "array([ 4, 23, 29, 10])"
      ]
     },
     "execution_count": 152,
     "metadata": {},
     "output_type": "execute_result"
    }
   ],
   "source": [
    "arr[[1,5,7,2], [0,3,1,2]]     #arr[[row indexes], [column indexes corresponding to row indexes]]"
   ]
  },
  {
   "cell_type": "code",
   "execution_count": 156,
   "id": "86ff0119",
   "metadata": {},
   "outputs": [
    {
     "data": {
      "text/plain": [
       "array([[ 4,  7,  5,  6],\n",
       "       [20, 23, 21, 22],\n",
       "       [28, 31, 29, 30],\n",
       "       [ 8, 11,  9, 10]])"
      ]
     },
     "execution_count": 156,
     "metadata": {},
     "output_type": "execute_result"
    }
   ],
   "source": [
    "arr[[1,5,7,2]] [:, [0,3,1,2]]  #can be used to rearrange array"
   ]
  },
  {
   "cell_type": "code",
   "execution_count": 157,
   "id": "083d17da",
   "metadata": {},
   "outputs": [
    {
     "data": {
      "text/plain": [
       "array([[ 4,  5,  6,  7],\n",
       "       [20, 21, 22, 23],\n",
       "       [28, 29, 30, 31],\n",
       "       [ 8,  9, 10, 11]])"
      ]
     },
     "execution_count": 157,
     "metadata": {},
     "output_type": "execute_result"
    }
   ],
   "source": [
    "arr[[1,5,7,2]] "
   ]
  },
  {
   "cell_type": "code",
   "execution_count": 158,
   "id": "52909f05",
   "metadata": {},
   "outputs": [
    {
     "data": {
      "text/plain": [
       "array([[ 0,  1,  2,  3],\n",
       "       [ 4,  5,  6,  7],\n",
       "       [ 8,  9, 10, 11],\n",
       "       [12, 13, 14, 15],\n",
       "       [16, 17, 18, 19],\n",
       "       [20, 21, 22, 23],\n",
       "       [24, 25, 26, 27],\n",
       "       [28, 29, 30, 31]])"
      ]
     },
     "execution_count": 158,
     "metadata": {},
     "output_type": "execute_result"
    }
   ],
   "source": [
    "arr"
   ]
  },
  {
   "cell_type": "code",
   "execution_count": 159,
   "id": "aff34612",
   "metadata": {},
   "outputs": [],
   "source": [
    "#Transposing Arrays and swapping axes"
   ]
  },
  {
   "cell_type": "code",
   "execution_count": 160,
   "id": "10b9e759",
   "metadata": {},
   "outputs": [],
   "source": [
    "arr = np.arange(15).reshape((3,5))"
   ]
  },
  {
   "cell_type": "code",
   "execution_count": 161,
   "id": "9b60a7f6",
   "metadata": {},
   "outputs": [
    {
     "data": {
      "text/plain": [
       "array([[ 0,  1,  2,  3,  4],\n",
       "       [ 5,  6,  7,  8,  9],\n",
       "       [10, 11, 12, 13, 14]])"
      ]
     },
     "execution_count": 161,
     "metadata": {},
     "output_type": "execute_result"
    }
   ],
   "source": [
    "arr"
   ]
  },
  {
   "cell_type": "code",
   "execution_count": 162,
   "id": "51124009",
   "metadata": {},
   "outputs": [
    {
     "data": {
      "text/plain": [
       "array([[ 0,  5, 10],\n",
       "       [ 1,  6, 11],\n",
       "       [ 2,  7, 12],\n",
       "       [ 3,  8, 13],\n",
       "       [ 4,  9, 14]])"
      ]
     },
     "execution_count": 162,
     "metadata": {},
     "output_type": "execute_result"
    }
   ],
   "source": [
    "\n",
    "arr.T"
   ]
  },
  {
   "cell_type": "code",
   "execution_count": 168,
   "id": "26603e3a",
   "metadata": {},
   "outputs": [],
   "source": [
    "arr= np.random.randn(6,3)"
   ]
  },
  {
   "cell_type": "code",
   "execution_count": 169,
   "id": "d9e0efc7",
   "metadata": {},
   "outputs": [
    {
     "data": {
      "text/plain": [
       "array([[ 0.85128347, -0.38699041,  1.5200009 ],\n",
       "       [-2.22362618,  0.57676498,  1.1394046 ],\n",
       "       [ 0.28917472,  0.03452035, -0.25567186],\n",
       "       [-0.50776817, -1.24328701,  0.67093058],\n",
       "       [-1.15768191, -1.14412064,  0.97640541],\n",
       "       [ 1.6414046 ,  1.34689339,  0.24714863]])"
      ]
     },
     "execution_count": 169,
     "metadata": {},
     "output_type": "execute_result"
    }
   ],
   "source": [
    "arr"
   ]
  },
  {
   "cell_type": "code",
   "execution_count": 170,
   "id": "202c5552",
   "metadata": {},
   "outputs": [
    {
     "data": {
      "text/plain": [
       "array([[ 0.85128347, -2.22362618,  0.28917472, -0.50776817, -1.15768191,\n",
       "         1.6414046 ],\n",
       "       [-0.38699041,  0.57676498,  0.03452035, -1.24328701, -1.14412064,\n",
       "         1.34689339],\n",
       "       [ 1.5200009 ,  1.1394046 , -0.25567186,  0.67093058,  0.97640541,\n",
       "         0.24714863]])"
      ]
     },
     "execution_count": 170,
     "metadata": {},
     "output_type": "execute_result"
    }
   ],
   "source": [
    "arr.T"
   ]
  },
  {
   "cell_type": "code",
   "execution_count": 171,
   "id": "0b3436c3",
   "metadata": {},
   "outputs": [
    {
     "data": {
      "text/plain": [
       "array([[10.04508395,  2.56466052, -2.37896527],\n",
       "       [ 2.56466052,  5.1525075 , -1.55828499],\n",
       "       [-2.37896527, -1.55828499,  5.13861148]])"
      ]
     },
     "execution_count": 171,
     "metadata": {},
     "output_type": "execute_result"
    }
   ],
   "source": [
    "np.dot(arr.T, arr)"
   ]
  },
  {
   "cell_type": "code",
   "execution_count": 173,
   "id": "4f60a187",
   "metadata": {},
   "outputs": [],
   "source": [
    "#Element wise array functions"
   ]
  },
  {
   "cell_type": "code",
   "execution_count": 174,
   "id": "154afe35",
   "metadata": {},
   "outputs": [],
   "source": [
    "arr = np.arange(10)"
   ]
  },
  {
   "cell_type": "code",
   "execution_count": 175,
   "id": "42041837",
   "metadata": {},
   "outputs": [
    {
     "data": {
      "text/plain": [
       "array([0, 1, 2, 3, 4, 5, 6, 7, 8, 9])"
      ]
     },
     "execution_count": 175,
     "metadata": {},
     "output_type": "execute_result"
    }
   ],
   "source": [
    "arr"
   ]
  },
  {
   "cell_type": "code",
   "execution_count": 176,
   "id": "34cae2fb",
   "metadata": {},
   "outputs": [
    {
     "data": {
      "text/plain": [
       "array([0.        , 1.        , 1.41421356, 1.73205081, 2.        ,\n",
       "       2.23606798, 2.44948974, 2.64575131, 2.82842712, 3.        ])"
      ]
     },
     "execution_count": 176,
     "metadata": {},
     "output_type": "execute_result"
    }
   ],
   "source": [
    "np.sqrt(arr)"
   ]
  },
  {
   "cell_type": "code",
   "execution_count": 177,
   "id": "ceb16f30",
   "metadata": {},
   "outputs": [
    {
     "data": {
      "text/plain": [
       "array([1.00000000e+00, 2.71828183e+00, 7.38905610e+00, 2.00855369e+01,\n",
       "       5.45981500e+01, 1.48413159e+02, 4.03428793e+02, 1.09663316e+03,\n",
       "       2.98095799e+03, 8.10308393e+03])"
      ]
     },
     "execution_count": 177,
     "metadata": {},
     "output_type": "execute_result"
    }
   ],
   "source": [
    "np.exp(arr)"
   ]
  },
  {
   "cell_type": "code",
   "execution_count": 184,
   "id": "81162ee1",
   "metadata": {},
   "outputs": [],
   "source": [
    "y = np.random.randn(8)\n",
    "x = np.random.randn(8)"
   ]
  },
  {
   "cell_type": "code",
   "execution_count": 185,
   "id": "7ec3b0cd",
   "metadata": {},
   "outputs": [
    {
     "data": {
      "text/plain": [
       "array([-0.23777145,  0.7590379 , -0.26437522, -0.70876225, -1.41879602,\n",
       "        1.58743486,  2.0620682 , -0.94151837])"
      ]
     },
     "execution_count": 185,
     "metadata": {},
     "output_type": "execute_result"
    }
   ],
   "source": [
    "y"
   ]
  },
  {
   "cell_type": "code",
   "execution_count": 186,
   "id": "c3319d3d",
   "metadata": {},
   "outputs": [
    {
     "data": {
      "text/plain": [
       "array([ 0.91042437,  0.10844955,  1.41459602,  2.05623948,  0.33864434,\n",
       "       -2.50938279,  0.72158587,  0.89323245])"
      ]
     },
     "execution_count": 186,
     "metadata": {},
     "output_type": "execute_result"
    }
   ],
   "source": [
    "x"
   ]
  },
  {
   "cell_type": "code",
   "execution_count": 187,
   "id": "89de3e82",
   "metadata": {},
   "outputs": [
    {
     "data": {
      "text/plain": [
       "array([0.91042437, 0.7590379 , 1.41459602, 2.05623948, 0.33864434,\n",
       "       1.58743486, 2.0620682 , 0.89323245])"
      ]
     },
     "execution_count": 187,
     "metadata": {},
     "output_type": "execute_result"
    }
   ],
   "source": [
    "np.maximum(x,y)"
   ]
  },
  {
   "cell_type": "code",
   "execution_count": 188,
   "id": "185012ad",
   "metadata": {},
   "outputs": [],
   "source": [
    "#Conditional logic as array operations"
   ]
  },
  {
   "cell_type": "code",
   "execution_count": 189,
   "id": "27694324",
   "metadata": {},
   "outputs": [],
   "source": [
    "xarr = np.array([1.1,1.2,1.3,1.4,1.5])\n",
    "yarr = np.array([2.1,2.2,2.3,2.4,2.5])\n",
    "\n",
    "cond = np.array([True, False, True, True, False])"
   ]
  },
  {
   "cell_type": "code",
   "execution_count": 190,
   "id": "5d8fd600",
   "metadata": {},
   "outputs": [],
   "source": [
    "result = [(x if c else y) for x,y,c in zip(xarr, yarr, cond)]"
   ]
  },
  {
   "cell_type": "code",
   "execution_count": 191,
   "id": "731c5919",
   "metadata": {},
   "outputs": [
    {
     "data": {
      "text/plain": [
       "[1.1, 2.2, 1.3, 1.4, 2.5]"
      ]
     },
     "execution_count": 191,
     "metadata": {},
     "output_type": "execute_result"
    }
   ],
   "source": [
    "result"
   ]
  },
  {
   "cell_type": "code",
   "execution_count": 192,
   "id": "a11dd4eb",
   "metadata": {},
   "outputs": [],
   "source": [
    "result = np.where(cond, xarr, yarr)"
   ]
  },
  {
   "cell_type": "code",
   "execution_count": 193,
   "id": "b138279f",
   "metadata": {},
   "outputs": [
    {
     "data": {
      "text/plain": [
       "array([1.1, 2.2, 1.3, 1.4, 2.5])"
      ]
     },
     "execution_count": 193,
     "metadata": {},
     "output_type": "execute_result"
    }
   ],
   "source": [
    "result"
   ]
  },
  {
   "cell_type": "code",
   "execution_count": 195,
   "id": "db1ff289",
   "metadata": {},
   "outputs": [],
   "source": [
    "arr = np.random.randn(4, 4)"
   ]
  },
  {
   "cell_type": "code",
   "execution_count": 196,
   "id": "d1a52e3c",
   "metadata": {},
   "outputs": [
    {
     "data": {
      "text/plain": [
       "array([[-0.85544156,  0.90302065, -1.37171743,  0.5792667 ],\n",
       "       [-0.07988804,  0.50755374,  0.24769247, -1.0570542 ],\n",
       "       [-0.9048824 , -0.58196302,  0.79804478,  1.14396864],\n",
       "       [-0.05592908, -0.63977559,  0.73842642,  1.26914367]])"
      ]
     },
     "execution_count": 196,
     "metadata": {},
     "output_type": "execute_result"
    }
   ],
   "source": [
    "arr"
   ]
  },
  {
   "cell_type": "code",
   "execution_count": 197,
   "id": "9d9cef29",
   "metadata": {},
   "outputs": [
    {
     "data": {
      "text/plain": [
       "array([[-2,  2, -2,  2],\n",
       "       [-2,  2,  2, -2],\n",
       "       [-2, -2,  2,  2],\n",
       "       [-2, -2,  2,  2]])"
      ]
     },
     "execution_count": 197,
     "metadata": {},
     "output_type": "execute_result"
    }
   ],
   "source": [
    "np.where(arr > 0, 2, -2)"
   ]
  },
  {
   "cell_type": "code",
   "execution_count": 198,
   "id": "45d44f31",
   "metadata": {},
   "outputs": [
    {
     "data": {
      "text/plain": [
       "array([[-0.85544156,  2.        , -1.37171743,  2.        ],\n",
       "       [-0.07988804,  2.        ,  2.        , -1.0570542 ],\n",
       "       [-0.9048824 , -0.58196302,  2.        ,  2.        ],\n",
       "       [-0.05592908, -0.63977559,  2.        ,  2.        ]])"
      ]
     },
     "execution_count": 198,
     "metadata": {},
     "output_type": "execute_result"
    }
   ],
   "source": [
    "np.where(arr > 0, 2, arr)"
   ]
  },
  {
   "cell_type": "code",
   "execution_count": 199,
   "id": "3dc81d5b",
   "metadata": {},
   "outputs": [],
   "source": [
    "#Nested Condition "
   ]
  },
  {
   "cell_type": "code",
   "execution_count": 208,
   "id": "953eb7a5",
   "metadata": {},
   "outputs": [],
   "source": [
    "cond1 = np.array([True, True, False, True])\n",
    "cond2 = np.array([False, True, True, False])\n",
    "\n",
    "result = []\n",
    "\n",
    "for i in range(4):\n",
    "    if cond1[i] and cond2[i]:\n",
    "        result.append(0)\n",
    "    elif cond1[i]:\n",
    "        result.append(1)\n",
    "    elif cond2[i]:\n",
    "        result.append(2)\n",
    "    else:\n",
    "        result.append(3)"
   ]
  },
  {
   "cell_type": "code",
   "execution_count": 209,
   "id": "19d0d517",
   "metadata": {},
   "outputs": [
    {
     "data": {
      "text/plain": [
       "[1, 0, 2, 1]"
      ]
     },
     "execution_count": 209,
     "metadata": {},
     "output_type": "execute_result"
    }
   ],
   "source": [
    "result"
   ]
  },
  {
   "cell_type": "code",
   "execution_count": 210,
   "id": "b909044a",
   "metadata": {},
   "outputs": [
    {
     "data": {
      "text/plain": [
       "array([1, 0, 2, 1])"
      ]
     },
     "execution_count": 210,
     "metadata": {},
     "output_type": "execute_result"
    }
   ],
   "source": [
    "np.where(cond1 & cond2, 0,\n",
    "        np.where(cond1, 1,\n",
    "                np.where(cond2, 2, 3)))"
   ]
  },
  {
   "cell_type": "code",
   "execution_count": 211,
   "id": "a4984e1e",
   "metadata": {},
   "outputs": [],
   "source": [
    "#Mathematical operations"
   ]
  },
  {
   "cell_type": "code",
   "execution_count": 213,
   "id": "2c2d0a66",
   "metadata": {},
   "outputs": [],
   "source": [
    "arr = np.random.randn(5,4)"
   ]
  },
  {
   "cell_type": "code",
   "execution_count": 214,
   "id": "99b22fb5",
   "metadata": {},
   "outputs": [
    {
     "data": {
      "text/plain": [
       "array([[ 1.17113872,  0.39365498, -0.05549068, -0.7114396 ],\n",
       "       [-0.80274173,  0.05749616, -1.57500646,  1.12456421],\n",
       "       [ 0.06159953, -0.70001265, -0.54875982,  0.48797129],\n",
       "       [-0.74868202,  1.07417718, -0.53557614,  1.82537484],\n",
       "       [-0.23617142,  1.84283421,  0.42745764, -0.09243353]])"
      ]
     },
     "execution_count": 214,
     "metadata": {},
     "output_type": "execute_result"
    }
   ],
   "source": [
    "arr"
   ]
  },
  {
   "cell_type": "code",
   "execution_count": 215,
   "id": "31a65131",
   "metadata": {},
   "outputs": [
    {
     "data": {
      "text/plain": [
       "0.12299773602438183"
      ]
     },
     "execution_count": 215,
     "metadata": {},
     "output_type": "execute_result"
    }
   ],
   "source": [
    "arr.mean()"
   ]
  },
  {
   "cell_type": "code",
   "execution_count": 216,
   "id": "25991b82",
   "metadata": {},
   "outputs": [
    {
     "data": {
      "text/plain": [
       "2.4599547204876364"
      ]
     },
     "execution_count": 216,
     "metadata": {},
     "output_type": "execute_result"
    }
   ],
   "source": [
    "arr.sum()"
   ]
  },
  {
   "cell_type": "code",
   "execution_count": 218,
   "id": "703b4fac",
   "metadata": {},
   "outputs": [
    {
     "data": {
      "text/plain": [
       "array([-0.11097138,  0.53362998, -0.45747509,  0.52680744])"
      ]
     },
     "execution_count": 218,
     "metadata": {},
     "output_type": "execute_result"
    }
   ],
   "source": [
    "arr.mean(axis = 0)"
   ]
  },
  {
   "cell_type": "code",
   "execution_count": 219,
   "id": "29ab65dc",
   "metadata": {},
   "outputs": [
    {
     "data": {
      "text/plain": [
       "array([-0.55485692,  2.66814988, -2.28737545,  2.63403721])"
      ]
     },
     "execution_count": 219,
     "metadata": {},
     "output_type": "execute_result"
    }
   ],
   "source": [
    "arr.sum(0)"
   ]
  },
  {
   "cell_type": "code",
   "execution_count": 222,
   "id": "4d36ea12",
   "metadata": {},
   "outputs": [
    {
     "data": {
      "text/plain": [
       "array([[ 1.17113872,  0.39365498, -0.05549068, -0.7114396 ],\n",
       "       [ 0.36839699,  0.45115114, -1.63049713,  0.41312461],\n",
       "       [ 0.42999652, -0.24886151, -2.17925695,  0.9010959 ],\n",
       "       [-0.3186855 ,  0.82531567, -2.71483309,  2.72647074],\n",
       "       [-0.55485692,  2.66814988, -2.28737545,  2.63403721]])"
      ]
     },
     "execution_count": 222,
     "metadata": {},
     "output_type": "execute_result"
    }
   ],
   "source": [
    "arr.cumsum(axis = 0)"
   ]
  },
  {
   "cell_type": "code",
   "execution_count": 223,
   "id": "e1d4b6ff",
   "metadata": {},
   "outputs": [],
   "source": [
    "#Methods for Boolean arrays"
   ]
  },
  {
   "cell_type": "code",
   "execution_count": 27,
   "id": "076d628c",
   "metadata": {},
   "outputs": [],
   "source": [
    "arr = np.random.randn(100)"
   ]
  },
  {
   "cell_type": "code",
   "execution_count": 28,
   "id": "2a2b87fa",
   "metadata": {},
   "outputs": [
    {
     "data": {
      "text/plain": [
       "array([ 0.73023838,  0.89751619, -1.26796124, -0.90423049,  0.1765969 ,\n",
       "       -0.19070246,  0.85749122,  0.22231301, -1.11579381,  0.02190816,\n",
       "        1.32661377, -0.3002481 , -0.4979243 ,  1.13249805, -0.65769627,\n",
       "       -1.0708183 , -1.62230135,  2.08844321,  0.13657938, -0.14476526,\n",
       "        0.51313108,  0.76249626,  0.20164426, -0.12561948,  0.29373091,\n",
       "       -0.23394226, -0.31927133,  1.4996568 ,  0.27986122,  0.65160661,\n",
       "        1.07546431,  2.70417724, -0.42256596,  0.57852016, -0.5700499 ,\n",
       "       -0.25258152,  0.29376425,  0.44021584,  1.16410744,  2.22015985,\n",
       "       -3.58496163, -0.2055352 ,  1.6103276 ,  0.58032953, -0.81727923,\n",
       "       -0.22170579, -0.59642228, -1.63652073,  0.99000995, -0.77372199,\n",
       "        1.05849859, -0.30231936,  0.46024013,  0.55726885, -0.18362108,\n",
       "        0.1608968 , -0.15065515,  2.75015953, -2.67212737,  2.67619276,\n",
       "       -0.33312922, -0.52187588,  0.28500183,  0.84138327, -0.21952485,\n",
       "        0.68586641, -1.23885131, -1.94630994, -0.13442073, -2.1264937 ,\n",
       "        1.27140875,  1.55777395, -0.33067678,  0.62376153, -0.05585035,\n",
       "        0.76896842, -0.29374785,  0.37234796,  1.42966586, -1.05995948,\n",
       "        0.27648913, -0.73247825, -1.3707676 , -0.24798245,  0.42227053,\n",
       "       -0.90008844, -0.03769377, -0.51179045, -2.01966139, -0.17376514,\n",
       "        0.5429169 , -0.32830285, -0.26695468, -0.5630148 ,  0.71072395,\n",
       "        1.00971909,  0.21550964,  0.08499062,  0.49234379, -0.33344231])"
      ]
     },
     "execution_count": 28,
     "metadata": {},
     "output_type": "execute_result"
    }
   ],
   "source": [
    "arr"
   ]
  },
  {
   "cell_type": "code",
   "execution_count": 30,
   "id": "bd19f46d",
   "metadata": {},
   "outputs": [
    {
     "data": {
      "text/plain": [
       "50"
      ]
     },
     "execution_count": 30,
     "metadata": {},
     "output_type": "execute_result"
    }
   ],
   "source": [
    "(arr > 0).sum()"
   ]
  },
  {
   "cell_type": "code",
   "execution_count": 228,
   "id": "845c5973",
   "metadata": {},
   "outputs": [],
   "source": [
    "arr = np.array([False, False, True, False])"
   ]
  },
  {
   "cell_type": "code",
   "execution_count": 231,
   "id": "dc70006d",
   "metadata": {},
   "outputs": [
    {
     "data": {
      "text/plain": [
       "True"
      ]
     },
     "execution_count": 231,
     "metadata": {},
     "output_type": "execute_result"
    }
   ],
   "source": [
    "any(arr)"
   ]
  },
  {
   "cell_type": "code",
   "execution_count": 232,
   "id": "f9c1a2d3",
   "metadata": {},
   "outputs": [
    {
     "data": {
      "text/plain": [
       "False"
      ]
     },
     "execution_count": 232,
     "metadata": {},
     "output_type": "execute_result"
    }
   ],
   "source": [
    "all(arr)"
   ]
  },
  {
   "cell_type": "code",
   "execution_count": 234,
   "id": "b622256a",
   "metadata": {},
   "outputs": [],
   "source": [
    "#Sorting"
   ]
  },
  {
   "cell_type": "code",
   "execution_count": 236,
   "id": "883c4167",
   "metadata": {},
   "outputs": [],
   "source": [
    "arr = np.random.randn(8)"
   ]
  },
  {
   "cell_type": "code",
   "execution_count": 237,
   "id": "c2c31be8",
   "metadata": {},
   "outputs": [
    {
     "data": {
      "text/plain": [
       "array([-0.42463651,  0.41644078, -1.37494586, -0.13467252, -1.68519108,\n",
       "        1.39664367,  0.06915968, -0.07667946])"
      ]
     },
     "execution_count": 237,
     "metadata": {},
     "output_type": "execute_result"
    }
   ],
   "source": [
    "arr"
   ]
  },
  {
   "cell_type": "code",
   "execution_count": 238,
   "id": "f03f1c6d",
   "metadata": {},
   "outputs": [],
   "source": [
    "arr.sort()"
   ]
  },
  {
   "cell_type": "code",
   "execution_count": 246,
   "id": "f31e6848",
   "metadata": {},
   "outputs": [],
   "source": [
    "#Unique and Other set logic "
   ]
  },
  {
   "cell_type": "code",
   "execution_count": 249,
   "id": "3a52d42d",
   "metadata": {},
   "outputs": [],
   "source": [
    "names = np.array(['Bob', 'Bob', 'kal', 'appy', 'kal'])"
   ]
  },
  {
   "cell_type": "code",
   "execution_count": 250,
   "id": "fd897fe0",
   "metadata": {},
   "outputs": [
    {
     "data": {
      "text/plain": [
       "array(['Bob', 'appy', 'kal'], dtype='<U4')"
      ]
     },
     "execution_count": 250,
     "metadata": {},
     "output_type": "execute_result"
    }
   ],
   "source": [
    "np.unique(names)"
   ]
  },
  {
   "cell_type": "code",
   "execution_count": 251,
   "id": "09c70e73",
   "metadata": {},
   "outputs": [],
   "source": [
    "values = np.array([6,0,0,3,2,5,6])"
   ]
  },
  {
   "cell_type": "code",
   "execution_count": 252,
   "id": "3ff8faa3",
   "metadata": {},
   "outputs": [
    {
     "data": {
      "text/plain": [
       "array([ True, False, False,  True,  True, False,  True])"
      ]
     },
     "execution_count": 252,
     "metadata": {},
     "output_type": "execute_result"
    }
   ],
   "source": [
    "np.in1d(values, [2,3,6])"
   ]
  },
  {
   "cell_type": "code",
   "execution_count": 253,
   "id": "a229f968",
   "metadata": {},
   "outputs": [],
   "source": [
    "#np.in1d tests the membership of the values of 1 array in the other,\n",
    "#Returns a boolean array"
   ]
  },
  {
   "cell_type": "code",
   "execution_count": 254,
   "id": "82758357",
   "metadata": {},
   "outputs": [],
   "source": [
    "arr = np.arange(10)"
   ]
  },
  {
   "cell_type": "code",
   "execution_count": 255,
   "id": "3e7948ef",
   "metadata": {},
   "outputs": [],
   "source": [
    "np.save('some_array', arr)"
   ]
  },
  {
   "cell_type": "code",
   "execution_count": 256,
   "id": "41486702",
   "metadata": {},
   "outputs": [
    {
     "data": {
      "text/plain": [
       "array([0, 1, 2, 3, 4, 5, 6, 7, 8, 9])"
      ]
     },
     "execution_count": 256,
     "metadata": {},
     "output_type": "execute_result"
    }
   ],
   "source": [
    "np.load('some_array.npy')"
   ]
  },
  {
   "cell_type": "code",
   "execution_count": 257,
   "id": "e10359bd",
   "metadata": {},
   "outputs": [],
   "source": [
    "#To load csv"
   ]
  },
  {
   "cell_type": "code",
   "execution_count": 259,
   "id": "f8cf9640",
   "metadata": {},
   "outputs": [],
   "source": [
    "#np.loadtxt('array_ex.txt', delimiter=',')"
   ]
  },
  {
   "cell_type": "code",
   "execution_count": null,
   "id": "aa47404c",
   "metadata": {},
   "outputs": [],
   "source": []
  },
  {
   "cell_type": "code",
   "execution_count": 260,
   "id": "85a37a76",
   "metadata": {},
   "outputs": [],
   "source": [
    "#Linear Algebra    (np.linalg): Has a standard set of matrix decompositions and things like inverse and determinant"
   ]
  },
  {
   "cell_type": "code",
   "execution_count": 261,
   "id": "3b44f546",
   "metadata": {},
   "outputs": [
    {
     "data": {
      "text/plain": [
       "array([[ 28.,  64.],\n",
       "       [ 67., 181.]])"
      ]
     },
     "execution_count": 261,
     "metadata": {},
     "output_type": "execute_result"
    }
   ],
   "source": [
    "x = np.array([[1., 2., 3.], [4., 5., 6.]])\n",
    "y = np.array([[6., 23.], [-1,7], [8,9]])\n",
    "\n",
    "x.dot(y)"
   ]
  },
  {
   "cell_type": "code",
   "execution_count": 262,
   "id": "8b136468",
   "metadata": {},
   "outputs": [],
   "source": [
    "from numpy.linalg import inv, qr"
   ]
  },
  {
   "cell_type": "code",
   "execution_count": 263,
   "id": "e2190aaf",
   "metadata": {},
   "outputs": [],
   "source": [
    "x = np.random.randn(5,5)"
   ]
  },
  {
   "cell_type": "code",
   "execution_count": 264,
   "id": "5204d717",
   "metadata": {},
   "outputs": [
    {
     "data": {
      "text/plain": [
       "array([[ 1.51628359,  1.31982148, -0.78700541,  0.27269166, -0.27860276],\n",
       "       [ 1.06128182,  0.28852232, -0.37784216, -0.12489281, -1.47060511],\n",
       "       [ 0.50339067,  0.30759398, -0.86111637, -0.01458734,  1.63484036],\n",
       "       [-2.65739153,  0.34212322,  0.36898546, -0.8598292 ,  0.90876468],\n",
       "       [ 0.91071499,  0.94323812, -0.28548476,  0.22005765, -1.85467033]])"
      ]
     },
     "execution_count": 264,
     "metadata": {},
     "output_type": "execute_result"
    }
   ],
   "source": [
    "x"
   ]
  },
  {
   "cell_type": "code",
   "execution_count": 266,
   "id": "8ab9f4ca",
   "metadata": {},
   "outputs": [],
   "source": [
    "mat = x.T.dot(x)"
   ]
  },
  {
   "cell_type": "code",
   "execution_count": 267,
   "id": "a15d3147",
   "metadata": {},
   "outputs": [
    {
     "data": {
      "text/plain": [
       "array([[11.5699687 ,  2.41213282, -3.26833244,  2.75890093, -5.26422353],\n",
       "       [ 2.41213282,  2.92653437, -1.55563837,  0.2327822 , -1.7276275 ],\n",
       "       [-3.26833244, -1.55563837,  1.72131543, -0.53494623,  0.23193177],\n",
       "       [ 2.75890093,  0.2327822 , -0.53494623,  0.87790338, -1.10566943],\n",
       "       [-5.26422353, -1.7276275 ,  0.23193177, -1.10566943,  9.17865716]])"
      ]
     },
     "execution_count": 267,
     "metadata": {},
     "output_type": "execute_result"
    }
   ],
   "source": [
    "mat"
   ]
  },
  {
   "cell_type": "markdown",
   "id": "921f312a",
   "metadata": {},
   "source": [
    "inv(mat"
   ]
  },
  {
   "cell_type": "code",
   "execution_count": 268,
   "id": "f37594d8",
   "metadata": {},
   "outputs": [
    {
     "data": {
      "text/plain": [
       "array([[  6.34059377,   3.21781034,  11.32536853, -10.48675543,\n",
       "          2.69275586],\n",
       "       [  3.21781034,   2.66494855,   6.8735477 ,  -4.58955766,\n",
       "          1.62056207],\n",
       "       [ 11.32536853,   6.8735477 ,  22.18743075, -17.43510705,\n",
       "          5.12828464],\n",
       "       [-10.48675543,  -4.58955766, -17.43510705,  19.54499022,\n",
       "         -4.08334428],\n",
       "       [  2.69275586,   1.62056207,   5.12828464,  -4.08334428,\n",
       "          1.33687914]])"
      ]
     },
     "execution_count": 268,
     "metadata": {},
     "output_type": "execute_result"
    }
   ],
   "source": [
    "#To get inverse of matrix\n",
    "\n",
    "inv(mat)"
   ]
  },
  {
   "cell_type": "code",
   "execution_count": 269,
   "id": "1d3ad239",
   "metadata": {},
   "outputs": [
    {
     "data": {
      "text/plain": [
       "array([[ 1.00000000e+00,  4.61946760e-15,  9.12836597e-15,\n",
       "        -3.18190775e-15, -1.46928617e-15],\n",
       "       [ 9.82897628e-16,  1.00000000e+00, -1.22948203e-15,\n",
       "        -7.38383629e-15, -5.54433136e-16],\n",
       "       [-1.46899988e-15, -2.33473529e-15,  1.00000000e+00,\n",
       "         1.15425807e-15,  1.60359182e-15],\n",
       "       [ 2.32487890e-15,  1.16744752e-15,  1.42960882e-15,\n",
       "         1.00000000e+00, -1.71042561e-15],\n",
       "       [ 4.70672474e-17, -6.35415694e-15, -1.37220590e-15,\n",
       "        -2.51505433e-17,  1.00000000e+00]])"
      ]
     },
     "execution_count": 269,
     "metadata": {},
     "output_type": "execute_result"
    }
   ],
   "source": [
    "#To get identity matrix \n",
    "mat.dot(inv(mat))"
   ]
  },
  {
   "cell_type": "code",
   "execution_count": null,
   "id": "0ab4e239",
   "metadata": {},
   "outputs": [],
   "source": []
  },
  {
   "cell_type": "code",
   "execution_count": null,
   "id": "0fee4264",
   "metadata": {},
   "outputs": [],
   "source": []
  }
 ],
 "metadata": {
  "kernelspec": {
   "display_name": "Python 3",
   "language": "python",
   "name": "python3"
  },
  "language_info": {
   "codemirror_mode": {
    "name": "ipython",
    "version": 3
   },
   "file_extension": ".py",
   "mimetype": "text/x-python",
   "name": "python",
   "nbconvert_exporter": "python",
   "pygments_lexer": "ipython3",
   "version": "3.8.8"
  }
 },
 "nbformat": 4,
 "nbformat_minor": 5
}
