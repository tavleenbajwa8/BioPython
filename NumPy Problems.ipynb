{
 "cells": [
  {
   "cell_type": "code",
   "execution_count": 1,
   "id": "86c004f9",
   "metadata": {},
   "outputs": [],
   "source": [
    "#NumPy Exercises"
   ]
  },
  {
   "cell_type": "markdown",
   "id": "f7460eda",
   "metadata": {},
   "source": [
    "1. Replace all odd numbers in the given array with -1\n",
    "-> Generate array of range 10\n",
    "-> Replace odd number with -1\n",
    "\n",
    "2. Generate a 1-D array of 10 random integers. Each integer should be a number between 30 and 40 (inclusive)\n",
    "-> go through methods of np.random\n",
    "\n",
    "3. Extract the first four columns of this 2-D array\n",
    "-> Generate array with `np.arange(100).reshape(5,-1)`\n",
    "-> extract first four columns of each row\n",
    "\n",
    "4. Compare two arrays:\n",
    "-> create two 1D arrays of any equal range\n",
    "-> get elements in x where its value is more than its corresponding element in y,\n",
    "-> get elements in x where its value is equals to its corresponding element in y.\n",
    "\n",
    "5. Create a 3x3x3 array with random values\n",
    "6. Create a 10x10 array with random values and find the minimum and maximum values\n",
    "7. Create a random vector of size 30 and find the mean value\n",
    "8. Multiply a 5x3 matrix by a 3x2 matrix\n",
    "9. convert a float (32 bits) array into an integer (32 bits)\n",
    "10. Extract items from array\n",
    "-> input: arr = np.array([0, 1, 2, 3, 4, 5, 6, 7, 8, 9])\n",
    "-> expected output: array([1, 3, 5, 7, 9])\n",
    "11. Get common items betweeen two array\n",
    "input :\n",
    "a = np.array([1,2,3,2,3,4,3,4,5,6])\n",
    "b = np.array([7,2,10,2,7,4,9,4,9,8])\n",
    "\n",
    "output:\n",
    "array([2, 4])"
   ]
  },
  {
   "cell_type": "code",
   "execution_count": 2,
   "id": "cd9abdc0",
   "metadata": {},
   "outputs": [],
   "source": [
    "import numpy as np"
   ]
  },
  {
   "cell_type": "code",
   "execution_count": 16,
   "id": "cc1a462d",
   "metadata": {},
   "outputs": [
    {
     "data": {
      "text/plain": [
       "array([ 0, -1,  2, -1,  4, -1,  6, -1,  8, -1])"
      ]
     },
     "execution_count": 16,
     "metadata": {},
     "output_type": "execute_result"
    }
   ],
   "source": [
    "#1  Replace all odd numbers in the given array with -1\n",
    "#-> Generate array of range 10\n",
    "#-> Replace odd number with -1\n",
    "\n",
    "arr = np.arange(0,10)\n",
    "arr[arr%2 != 0 ] = -1\n",
    "arr"
   ]
  },
  {
   "cell_type": "code",
   "execution_count": 31,
   "id": "b1decd06",
   "metadata": {},
   "outputs": [
    {
     "data": {
      "text/plain": [
       "array([[33, 37, 38, 35, 31, 39, 36, 38, 30, 39],\n",
       "       [39, 30, 30, 34, 34, 32, 32, 36, 39, 33],\n",
       "       [32, 30, 33, 30, 32, 34, 30, 37, 36, 32],\n",
       "       [37, 39, 35, 35, 35, 36, 35, 32, 39, 35],\n",
       "       [31, 36, 30, 35, 36, 37, 36, 38, 38, 39],\n",
       "       [38, 35, 38, 33, 33, 30, 35, 32, 33, 33],\n",
       "       [37, 34, 34, 32, 34, 38, 39, 38, 32, 31],\n",
       "       [39, 33, 35, 39, 30, 37, 39, 34, 34, 39],\n",
       "       [37, 30, 39, 39, 33, 34, 30, 38, 32, 30],\n",
       "       [34, 31, 31, 33, 31, 34, 32, 38, 33, 33]])"
      ]
     },
     "execution_count": 31,
     "metadata": {},
     "output_type": "execute_result"
    }
   ],
   "source": [
    "#2  Generate a 1-D array of 10 random integers. Each integer should be a number between 30 and 40 (inclusive)\n",
    "#-> go through methods of np.random\n",
    "\n",
    "np.random.randint(30,40,(10,10))"
   ]
  },
  {
   "cell_type": "code",
   "execution_count": 32,
   "id": "c85f41ea",
   "metadata": {},
   "outputs": [],
   "source": [
    "#3 Extract the first four columns of this 2-D array\n",
    "#-> Generate array with `np.arange(100).reshape(5,-1)`\n",
    "#-> extract first four columns of each row\n",
    "\n",
    "arr1 = np.arange(100).reshape(5,-1)"
   ]
  },
  {
   "cell_type": "code",
   "execution_count": 33,
   "id": "4d9c5d76",
   "metadata": {},
   "outputs": [
    {
     "data": {
      "text/plain": [
       "array([[ 0,  1,  2,  3,  4,  5,  6,  7,  8,  9, 10, 11, 12, 13, 14, 15,\n",
       "        16, 17, 18, 19],\n",
       "       [20, 21, 22, 23, 24, 25, 26, 27, 28, 29, 30, 31, 32, 33, 34, 35,\n",
       "        36, 37, 38, 39],\n",
       "       [40, 41, 42, 43, 44, 45, 46, 47, 48, 49, 50, 51, 52, 53, 54, 55,\n",
       "        56, 57, 58, 59],\n",
       "       [60, 61, 62, 63, 64, 65, 66, 67, 68, 69, 70, 71, 72, 73, 74, 75,\n",
       "        76, 77, 78, 79],\n",
       "       [80, 81, 82, 83, 84, 85, 86, 87, 88, 89, 90, 91, 92, 93, 94, 95,\n",
       "        96, 97, 98, 99]])"
      ]
     },
     "execution_count": 33,
     "metadata": {},
     "output_type": "execute_result"
    }
   ],
   "source": [
    "arr1"
   ]
  },
  {
   "cell_type": "code",
   "execution_count": 34,
   "id": "2039cec0",
   "metadata": {},
   "outputs": [
    {
     "data": {
      "text/plain": [
       "array([[ 0,  1,  2,  3],\n",
       "       [20, 21, 22, 23],\n",
       "       [40, 41, 42, 43],\n",
       "       [60, 61, 62, 63],\n",
       "       [80, 81, 82, 83]])"
      ]
     },
     "execution_count": 34,
     "metadata": {},
     "output_type": "execute_result"
    }
   ],
   "source": [
    "arr1[ : , :4]"
   ]
  },
  {
   "cell_type": "code",
   "execution_count": 45,
   "id": "54da9895",
   "metadata": {},
   "outputs": [],
   "source": [
    "#4 4. Compare two arrays:\n",
    "#-> create two 1D arrays of any equal range\n",
    "#-> get elements in x where its value is more than its corresponding element in y,\n",
    "#-> get elements in x where its value is equals to its corresponding element in y.\n",
    "\n",
    "\n",
    "x = np.random.rand(30)\n",
    "y = np.random.rand(30)\n"
   ]
  },
  {
   "cell_type": "code",
   "execution_count": 46,
   "id": "0b5ea15d",
   "metadata": {},
   "outputs": [
    {
     "data": {
      "text/plain": [
       "array([0.69837579, 0.9880824 , 0.85769818, 0.6560138 , 0.78575613,\n",
       "       0.69223331, 0.10271446, 0.4815832 , 0.70223389, 0.89383644,\n",
       "       0.13282742, 0.3080501 , 0.79937961, 0.48728907, 0.00459649,\n",
       "       0.06580684, 0.98321386, 0.62710016, 0.66834621, 0.82661151,\n",
       "       0.28023618, 0.45577188, 0.80836919, 0.18800007, 0.99813144,\n",
       "       0.24914943, 0.94471042, 0.83050395, 0.33762371, 0.29987969])"
      ]
     },
     "execution_count": 46,
     "metadata": {},
     "output_type": "execute_result"
    }
   ],
   "source": [
    "x"
   ]
  },
  {
   "cell_type": "code",
   "execution_count": 47,
   "id": "e5e9cb45",
   "metadata": {},
   "outputs": [
    {
     "data": {
      "text/plain": [
       "array([0.3787679 , 0.81199509, 0.39854501, 0.01593465, 0.13340693,\n",
       "       0.73988343, 0.92639732, 0.04200154, 0.41422358, 0.83096701,\n",
       "       0.99334084, 0.37284798, 0.20777282, 0.91859501, 0.9114434 ,\n",
       "       0.3095606 , 0.86922836, 0.46418159, 0.41441099, 0.95013999,\n",
       "       0.77357468, 0.65230036, 0.5973876 , 0.93519839, 0.78788845,\n",
       "       0.10687117, 0.65341306, 0.41087194, 0.01044253, 0.67724308])"
      ]
     },
     "execution_count": 47,
     "metadata": {},
     "output_type": "execute_result"
    }
   ],
   "source": [
    "y"
   ]
  },
  {
   "cell_type": "code",
   "execution_count": 48,
   "id": "4bff7bdf",
   "metadata": {},
   "outputs": [
    {
     "data": {
      "text/plain": [
       "array([0.69837579, 0.9880824 , 0.85769818, 0.6560138 , 0.78575613,\n",
       "       0.4815832 , 0.70223389, 0.89383644, 0.79937961, 0.98321386,\n",
       "       0.62710016, 0.66834621, 0.80836919, 0.99813144, 0.24914943,\n",
       "       0.94471042, 0.83050395, 0.33762371])"
      ]
     },
     "execution_count": 48,
     "metadata": {},
     "output_type": "execute_result"
    }
   ],
   "source": [
    "x[x>y]"
   ]
  },
  {
   "cell_type": "code",
   "execution_count": 51,
   "id": "7b4b2e56",
   "metadata": {},
   "outputs": [
    {
     "data": {
      "text/plain": [
       "array([], dtype=float64)"
      ]
     },
     "execution_count": 51,
     "metadata": {},
     "output_type": "execute_result"
    }
   ],
   "source": [
    "x[x==y]"
   ]
  },
  {
   "cell_type": "code",
   "execution_count": 54,
   "id": "efcaf7b9",
   "metadata": {},
   "outputs": [
    {
     "data": {
      "text/plain": [
       "array([[[-1.22812801, -1.43317311, -0.94857378],\n",
       "        [ 1.82953822,  0.41463677, -2.11769867],\n",
       "        [-0.4713792 , -0.60967698, -2.16599048]],\n",
       "\n",
       "       [[ 0.57816736,  0.07138648,  0.2217002 ],\n",
       "        [ 0.48377623, -0.61695823,  0.21025213],\n",
       "        [-1.73419333,  0.08087198,  0.53084761]],\n",
       "\n",
       "       [[-0.62759224, -0.46559972, -0.60981607],\n",
       "        [ 0.83205374, -0.85757509, -1.52810018],\n",
       "        [-0.38011396,  0.19956594,  0.60882065]]])"
      ]
     },
     "execution_count": 54,
     "metadata": {},
     "output_type": "execute_result"
    }
   ],
   "source": [
    "#5 Create a 3x3x3 array with random values\n",
    "\n",
    "arr2 = np.random.randn(3,3,3)\n",
    "arr2"
   ]
  },
  {
   "cell_type": "code",
   "execution_count": 57,
   "id": "f0debde2",
   "metadata": {},
   "outputs": [
    {
     "data": {
      "text/plain": [
       "array([[31, 54, 58, 60, 51, 22, 57, 34, 47, 36],\n",
       "       [69, 78, 62, 30, 49, 28, 28, 72, 43, 76],\n",
       "       [78, 68, 48, 72, 33, 50, 32, 32, 72, 67],\n",
       "       [43, 48, 26, 53, 26, 41, 30, 53, 34, 64],\n",
       "       [67, 50, 62, 58, 34, 61, 63, 73, 52, 21],\n",
       "       [39, 57, 53, 75, 48, 76, 23, 49, 77, 50],\n",
       "       [76, 45, 27, 64, 63, 56, 74, 21, 29, 34],\n",
       "       [54, 46, 25, 66, 44, 53, 25, 25, 49, 59],\n",
       "       [70, 77, 37, 48, 58, 76, 63, 70, 48, 44],\n",
       "       [25, 42, 33, 25, 73, 36, 21, 27, 43, 45]])"
      ]
     },
     "execution_count": 57,
     "metadata": {},
     "output_type": "execute_result"
    }
   ],
   "source": [
    "#6 Create a 10x10 array with random values and find the minimum and maximum values\n",
    "\n",
    "arr3 = np.random.randint(20,80, (10,10))\n",
    "arr3"
   ]
  },
  {
   "cell_type": "code",
   "execution_count": 60,
   "id": "1fa6e42d",
   "metadata": {},
   "outputs": [
    {
     "data": {
      "text/plain": [
       "78"
      ]
     },
     "execution_count": 60,
     "metadata": {},
     "output_type": "execute_result"
    }
   ],
   "source": [
    "arr3.max()"
   ]
  },
  {
   "cell_type": "code",
   "execution_count": 61,
   "id": "78f2e709",
   "metadata": {},
   "outputs": [
    {
     "data": {
      "text/plain": [
       "21"
      ]
     },
     "execution_count": 61,
     "metadata": {},
     "output_type": "execute_result"
    }
   ],
   "source": [
    "arr3.min()"
   ]
  },
  {
   "cell_type": "code",
   "execution_count": 76,
   "id": "0745a23c",
   "metadata": {},
   "outputs": [],
   "source": [
    "#7 Create a random vector of size 30 and find the mean value\n",
    "\n",
    "vec = np.random.randint((10), size=(30))"
   ]
  },
  {
   "cell_type": "code",
   "execution_count": 78,
   "id": "4ec872fc",
   "metadata": {},
   "outputs": [
    {
     "data": {
      "text/plain": [
       "array([7, 6, 2, 1, 0, 8, 8, 8, 7, 5, 0, 9, 0, 5, 3, 6, 0, 6, 3, 2, 6, 4,\n",
       "       5, 6, 6, 3, 7, 7, 3, 6])"
      ]
     },
     "execution_count": 78,
     "metadata": {},
     "output_type": "execute_result"
    }
   ],
   "source": [
    "vec"
   ]
  },
  {
   "cell_type": "code",
   "execution_count": 79,
   "id": "a58b7135",
   "metadata": {},
   "outputs": [
    {
     "data": {
      "text/plain": [
       "4.633333333333334"
      ]
     },
     "execution_count": 79,
     "metadata": {},
     "output_type": "execute_result"
    }
   ],
   "source": [
    "vec.mean()"
   ]
  },
  {
   "cell_type": "code",
   "execution_count": 80,
   "id": "c5c519e2",
   "metadata": {},
   "outputs": [],
   "source": [
    "#8 Multiply a 5x3 matrix by a 3x2 matrix\n",
    "\n",
    "a = np.random.randint(4,8, (5,3))\n",
    "b = np.random.randint(4,8, (3,2))"
   ]
  },
  {
   "cell_type": "code",
   "execution_count": 81,
   "id": "819677cc",
   "metadata": {},
   "outputs": [
    {
     "data": {
      "text/plain": [
       "array([[ 68,  60],\n",
       "       [101,  87],\n",
       "       [108,  96],\n",
       "       [ 87,  77],\n",
       "       [ 94,  86]])"
      ]
     },
     "execution_count": 81,
     "metadata": {},
     "output_type": "execute_result"
    }
   ],
   "source": [
    "a@b          #Matrix multiplication"
   ]
  },
  {
   "cell_type": "code",
   "execution_count": 90,
   "id": "729e1dc2",
   "metadata": {},
   "outputs": [],
   "source": [
    "#9 convert a float (32 bits) array into an integer (32 bits)\n",
    "\n",
    "t = np.array([2, 9.6 , 8.7 , 9 , 3.7], dtype = int)"
   ]
  },
  {
   "cell_type": "code",
   "execution_count": 92,
   "id": "05228f9b",
   "metadata": {},
   "outputs": [
    {
     "data": {
      "text/plain": [
       "array([2, 9, 8, 9, 3])"
      ]
     },
     "execution_count": 92,
     "metadata": {},
     "output_type": "execute_result"
    }
   ],
   "source": [
    "t"
   ]
  },
  {
   "cell_type": "code",
   "execution_count": 94,
   "id": "93145211",
   "metadata": {},
   "outputs": [
    {
     "data": {
      "text/plain": [
       "numpy.int32"
      ]
     },
     "execution_count": 94,
     "metadata": {},
     "output_type": "execute_result"
    }
   ],
   "source": [
    "type(t[2])"
   ]
  },
  {
   "cell_type": "code",
   "execution_count": 95,
   "id": "5aeabe12",
   "metadata": {},
   "outputs": [],
   "source": [
    "#10 Extract items from array\n",
    "#-> input: arr = np.array([0, 1, 2, 3, 4, 5, 6, 7, 8, 9])\n",
    "#-> expected output: array([1, 3, 5, 7, 9])"
   ]
  },
  {
   "cell_type": "code",
   "execution_count": 97,
   "id": "9025b3e2",
   "metadata": {},
   "outputs": [
    {
     "data": {
      "text/plain": [
       "array([1, 3, 5, 7, 9])"
      ]
     },
     "execution_count": 97,
     "metadata": {},
     "output_type": "execute_result"
    }
   ],
   "source": [
    "arr = np.array([0, 1, 2, 3, 4, 5, 6, 7, 8, 9])\n",
    "arr[arr%2 != 0]"
   ]
  },
  {
   "cell_type": "code",
   "execution_count": 102,
   "id": "ccee7be5",
   "metadata": {},
   "outputs": [
    {
     "data": {
      "text/plain": [
       "array([2, 4])"
      ]
     },
     "execution_count": 102,
     "metadata": {},
     "output_type": "execute_result"
    }
   ],
   "source": [
    "#11. Get common items betweeen two array\n",
    "#input :\n",
    "\n",
    "a = np.array([1,2,3,2,3,4,3,4,5,6])\n",
    "b = np.array([7,2,10,2,7,4,9,4,9,8])\n",
    "\n",
    "\n",
    "#output:\n",
    "#array([2, 4])\n",
    "\n",
    "c = np.intersect1d(a, b)\n",
    "c"
   ]
  },
  {
   "cell_type": "code",
   "execution_count": null,
   "id": "3f8edbd2",
   "metadata": {},
   "outputs": [],
   "source": []
  }
 ],
 "metadata": {
  "kernelspec": {
   "display_name": "Python 3",
   "language": "python",
   "name": "python3"
  },
  "language_info": {
   "codemirror_mode": {
    "name": "ipython",
    "version": 3
   },
   "file_extension": ".py",
   "mimetype": "text/x-python",
   "name": "python",
   "nbconvert_exporter": "python",
   "pygments_lexer": "ipython3",
   "version": "3.8.8"
  }
 },
 "nbformat": 4,
 "nbformat_minor": 5
}
